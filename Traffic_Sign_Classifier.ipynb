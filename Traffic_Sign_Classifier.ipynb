{
  "nbformat": 4,
  "nbformat_minor": 0,
  "metadata": {
    "colab": {
      "provenance": [],
      "collapsed_sections": [],
      "machine_shape": "hm",
      "authorship_tag": "ABX9TyMxRwGxQYEohVSBIwtCHmBS",
      "include_colab_link": true
    },
    "kernelspec": {
      "name": "python3",
      "display_name": "Python 3"
    },
    "language_info": {
      "name": "python"
    },
    "accelerator": "GPU",
    "gpuClass": "premium"
  },
  "cells": [
    {
      "cell_type": "markdown",
      "metadata": {
        "id": "view-in-github",
        "colab_type": "text"
      },
      "source": [
        "<a href=\"https://colab.research.google.com/github/sahilfaizal01/Traffic-Sign-Classifier/blob/main/Traffic_Sign_Classifier.ipynb\" target=\"_parent\"><img src=\"https://colab.research.google.com/assets/colab-badge.svg\" alt=\"Open In Colab\"/></a>"
      ]
    },
    {
      "cell_type": "code",
      "source": [
        "import numpy as np \n",
        "import pandas as pd \n",
        "import matplotlib.pyplot as plt\n",
        "import cv2\n",
        "import tensorflow as tf\n",
        "from PIL import Image\n",
        "import os\n",
        "from sklearn.model_selection import train_test_split\n",
        "from tensorflow import keras\n",
        "from keras.models import Sequential, load_model\n",
        "from tensorflow.keras.optimizers import Adam\n",
        "from keras.layers import Conv2D, MaxPool2D, Dense, Flatten, Dropout, BatchNormalization"
      ],
      "metadata": {
        "id": "RQLhw9suakNY"
      },
      "execution_count": 23,
      "outputs": []
    },
    {
      "cell_type": "code",
      "source": [
        "!pip install opendatasets"
      ],
      "metadata": {
        "colab": {
          "base_uri": "https://localhost:8080/"
        },
        "id": "1_T6fRIzd156",
        "outputId": "83cc389c-5466-4c1b-c6c2-e7445bce0681"
      },
      "execution_count": 3,
      "outputs": [
        {
          "output_type": "stream",
          "name": "stdout",
          "text": [
            "Looking in indexes: https://pypi.org/simple, https://us-python.pkg.dev/colab-wheels/public/simple/\n",
            "Collecting opendatasets\n",
            "  Downloading opendatasets-0.1.22-py3-none-any.whl (15 kB)\n",
            "Requirement already satisfied: tqdm in /usr/local/lib/python3.7/dist-packages (from opendatasets) (4.64.1)\n",
            "Requirement already satisfied: kaggle in /usr/local/lib/python3.7/dist-packages (from opendatasets) (1.5.12)\n",
            "Requirement already satisfied: click in /usr/local/lib/python3.7/dist-packages (from opendatasets) (7.1.2)\n",
            "Requirement already satisfied: python-dateutil in /usr/local/lib/python3.7/dist-packages (from kaggle->opendatasets) (2.8.2)\n",
            "Requirement already satisfied: certifi in /usr/local/lib/python3.7/dist-packages (from kaggle->opendatasets) (2022.6.15)\n",
            "Requirement already satisfied: urllib3 in /usr/local/lib/python3.7/dist-packages (from kaggle->opendatasets) (1.24.3)\n",
            "Requirement already satisfied: requests in /usr/local/lib/python3.7/dist-packages (from kaggle->opendatasets) (2.23.0)\n",
            "Requirement already satisfied: python-slugify in /usr/local/lib/python3.7/dist-packages (from kaggle->opendatasets) (6.1.2)\n",
            "Requirement already satisfied: six>=1.10 in /usr/local/lib/python3.7/dist-packages (from kaggle->opendatasets) (1.15.0)\n",
            "Requirement already satisfied: text-unidecode>=1.3 in /usr/local/lib/python3.7/dist-packages (from python-slugify->kaggle->opendatasets) (1.3)\n",
            "Requirement already satisfied: idna<3,>=2.5 in /usr/local/lib/python3.7/dist-packages (from requests->kaggle->opendatasets) (2.10)\n",
            "Requirement already satisfied: chardet<4,>=3.0.2 in /usr/local/lib/python3.7/dist-packages (from requests->kaggle->opendatasets) (3.0.4)\n",
            "Installing collected packages: opendatasets\n",
            "Successfully installed opendatasets-0.1.22\n"
          ]
        }
      ]
    },
    {
      "cell_type": "code",
      "source": [
        "import opendatasets as od\n",
        "# sahilfaizal\n",
        "# c42e37ca20f418f6d324efd5375ab744\n",
        "od.download(\n",
        "    \"https://www.kaggle.com/datasets/meowmeowmeowmeowmeow/gtsrb-german-traffic-sign?resource=download\")"
      ],
      "metadata": {
        "colab": {
          "base_uri": "https://localhost:8080/"
        },
        "id": "IKw8wS_-d2AT",
        "outputId": "a80ed5de-087b-4535-ce8a-e0f664f093a5"
      },
      "execution_count": 4,
      "outputs": [
        {
          "output_type": "stream",
          "name": "stdout",
          "text": [
            "Please provide your Kaggle credentials to download this dataset. Learn more: http://bit.ly/kaggle-creds\n",
            "Your Kaggle username: sahilfaizal\n",
            "Your Kaggle Key: ··········\n",
            "Downloading gtsrb-german-traffic-sign.zip to ./gtsrb-german-traffic-sign\n"
          ]
        },
        {
          "output_type": "stream",
          "name": "stderr",
          "text": [
            "100%|██████████| 612M/612M [00:04<00:00, 133MB/s]\n"
          ]
        },
        {
          "output_type": "stream",
          "name": "stdout",
          "text": [
            "\n"
          ]
        }
      ]
    },
    {
      "cell_type": "markdown",
      "source": [
        "# **Creating Dataset**"
      ],
      "metadata": {
        "id": "1RTcoUqua0EP"
      }
    },
    {
      "cell_type": "code",
      "source": [
        "data = []\n",
        "labels = []\n",
        "classes = 43\n",
        "cur_path = '/content/gtsrb-german-traffic-sign'\n",
        "for i in range(classes):\n",
        "    path = os.path.join(cur_path,'Train',str(i))\n",
        "    dir = os.listdir(path)\n",
        "    for a in dir:\n",
        "        image = Image.open(path + '/'+ a)\n",
        "        image = image.resize((30,30))\n",
        "        image = np.array(image)\n",
        "        data.append(image)\n",
        "        labels.append(i)\n",
        "        "
      ],
      "metadata": {
        "id": "q3ylUflhakPo"
      },
      "execution_count": 57,
      "outputs": []
    },
    {
      "cell_type": "code",
      "source": [
        "#Converting lists into numpy arrays\n",
        "data = np.array(data)\n",
        "labels = np.array(labels)\n",
        "print(data.shape, labels.shape)"
      ],
      "metadata": {
        "colab": {
          "base_uri": "https://localhost:8080/"
        },
        "id": "ATUTMIcDf7ZU",
        "outputId": "fbcde68e-ddb7-49ba-f8ce-acb6b57f19be"
      },
      "execution_count": 58,
      "outputs": [
        {
          "output_type": "stream",
          "name": "stdout",
          "text": [
            "(39209, 30, 30, 3) (39209,)\n"
          ]
        }
      ]
    },
    {
      "cell_type": "code",
      "source": [
        "#Splitting training and testing dataset\n",
        "X_train, X_test, y_train, y_test = train_test_split(data, labels, test_size=0.2, random_state=42)\n",
        "print(X_train.shape, X_test.shape, y_train.shape, y_test.shape)"
      ],
      "metadata": {
        "colab": {
          "base_uri": "https://localhost:8080/"
        },
        "id": "bohjFEYCakUE",
        "outputId": "b26fba9c-122c-43c9-98aa-aa3f85572797"
      },
      "execution_count": 59,
      "outputs": [
        {
          "output_type": "stream",
          "name": "stdout",
          "text": [
            "(31367, 30, 30, 3) (7842, 30, 30, 3) (31367,) (7842,)\n"
          ]
        }
      ]
    },
    {
      "cell_type": "code",
      "source": [
        "#Converting the labels into one hot encoding\n",
        "y_train = keras.utils.to_categorical(y_train, 43)\n",
        "y_test = keras.utils.to_categorical(y_test, 43)\n",
        "# 43 different classes are present"
      ],
      "metadata": {
        "id": "NnT-xtBvakWC"
      },
      "execution_count": 60,
      "outputs": []
    },
    {
      "cell_type": "markdown",
      "source": [
        "# **Model Building**"
      ],
      "metadata": {
        "id": "NC8sZ5nwbQk_"
      }
    },
    {
      "cell_type": "code",
      "source": [
        "#Building the model\n",
        "model = Sequential()\n",
        "model.add(Conv2D(filters=16, kernel_size=(3,3), activation='relu', input_shape=X_train.shape[1:]))\n",
        "model.add(Conv2D(filters=32, kernel_size=(5,5), activation='relu'))\n",
        "model.add(MaxPool2D(pool_size=(2, 2)))\n",
        "model.add(BatchNormalization(axis=-1))\n",
        "model.add(Conv2D(filters=64, kernel_size=(3, 3), activation='relu'))\n",
        "model.add(Conv2D(filters=128, kernel_size=(3, 3), activation='relu'))\n",
        "model.add(MaxPool2D(pool_size=(2, 2)))\n",
        "model.add(BatchNormalization(axis=-1))\n",
        "model.add(Flatten())\n",
        "model.add(Dense(512, activation='relu'))\n",
        "model.add(BatchNormalization())\n",
        "model.add(Dropout(rate=0.5))\n",
        "model.add(Dense(43, activation='softmax'))\n",
        "lr = 0.001\n",
        "epochs = 30\n",
        "opt = Adam(learning_rate=lr, decay=lr / (epochs * 0.5))\n",
        "#Compilation of the model\n",
        "model.compile(loss='categorical_crossentropy', optimizer=opt, metrics=['accuracy'])\n",
        "history = model.fit(X_train, y_train, batch_size=32, epochs=epochs, validation_data=(X_test, y_test))"
      ],
      "metadata": {
        "colab": {
          "base_uri": "https://localhost:8080/"
        },
        "id": "1LOcQFPtakXm",
        "outputId": "6705ecab-ecfd-4aeb-f3e4-4835db4ee971"
      },
      "execution_count": 25,
      "outputs": [
        {
          "output_type": "stream",
          "name": "stdout",
          "text": [
            "Epoch 1/30\n",
            "981/981 [==============================] - 8s 7ms/step - loss: 0.3679 - accuracy: 0.9040 - val_loss: 0.0679 - val_accuracy: 0.9819\n",
            "Epoch 2/30\n",
            "981/981 [==============================] - 6s 6ms/step - loss: 0.0439 - accuracy: 0.9873 - val_loss: 0.0725 - val_accuracy: 0.9793\n",
            "Epoch 3/30\n",
            "981/981 [==============================] - 6s 6ms/step - loss: 0.0284 - accuracy: 0.9919 - val_loss: 0.0340 - val_accuracy: 0.9903\n",
            "Epoch 4/30\n",
            "981/981 [==============================] - 6s 6ms/step - loss: 0.0235 - accuracy: 0.9924 - val_loss: 0.0469 - val_accuracy: 0.9871\n",
            "Epoch 5/30\n",
            "981/981 [==============================] - 6s 7ms/step - loss: 0.0232 - accuracy: 0.9931 - val_loss: 0.0293 - val_accuracy: 0.9921\n",
            "Epoch 6/30\n",
            "981/981 [==============================] - 6s 7ms/step - loss: 0.0110 - accuracy: 0.9968 - val_loss: 0.0290 - val_accuracy: 0.9907\n",
            "Epoch 7/30\n",
            "981/981 [==============================] - 7s 7ms/step - loss: 0.0146 - accuracy: 0.9957 - val_loss: 0.0454 - val_accuracy: 0.9869\n",
            "Epoch 8/30\n",
            "981/981 [==============================] - 6s 7ms/step - loss: 0.0154 - accuracy: 0.9949 - val_loss: 0.0229 - val_accuracy: 0.9946\n",
            "Epoch 9/30\n",
            "981/981 [==============================] - 6s 6ms/step - loss: 0.0071 - accuracy: 0.9977 - val_loss: 0.0317 - val_accuracy: 0.9918\n",
            "Epoch 10/30\n",
            "981/981 [==============================] - 6s 6ms/step - loss: 0.0076 - accuracy: 0.9979 - val_loss: 0.0289 - val_accuracy: 0.9941\n",
            "Epoch 11/30\n",
            "981/981 [==============================] - 6s 6ms/step - loss: 0.0077 - accuracy: 0.9979 - val_loss: 0.0151 - val_accuracy: 0.9964\n",
            "Epoch 12/30\n",
            "981/981 [==============================] - 6s 7ms/step - loss: 0.0057 - accuracy: 0.9982 - val_loss: 0.0144 - val_accuracy: 0.9964\n",
            "Epoch 13/30\n",
            "981/981 [==============================] - 6s 6ms/step - loss: 0.0064 - accuracy: 0.9976 - val_loss: 0.0205 - val_accuracy: 0.9963\n",
            "Epoch 14/30\n",
            "981/981 [==============================] - 6s 6ms/step - loss: 0.0095 - accuracy: 0.9972 - val_loss: 0.0189 - val_accuracy: 0.9960\n",
            "Epoch 15/30\n",
            "981/981 [==============================] - 6s 6ms/step - loss: 0.0038 - accuracy: 0.9989 - val_loss: 0.0141 - val_accuracy: 0.9972\n",
            "Epoch 16/30\n",
            "981/981 [==============================] - 6s 6ms/step - loss: 0.0032 - accuracy: 0.9991 - val_loss: 0.0109 - val_accuracy: 0.9982\n",
            "Epoch 17/30\n",
            "981/981 [==============================] - 6s 6ms/step - loss: 0.0045 - accuracy: 0.9987 - val_loss: 0.0153 - val_accuracy: 0.9971\n",
            "Epoch 18/30\n",
            "981/981 [==============================] - 6s 6ms/step - loss: 0.0028 - accuracy: 0.9989 - val_loss: 0.0163 - val_accuracy: 0.9967\n",
            "Epoch 19/30\n",
            "981/981 [==============================] - 6s 6ms/step - loss: 0.0041 - accuracy: 0.9986 - val_loss: 0.0134 - val_accuracy: 0.9972\n",
            "Epoch 20/30\n",
            "981/981 [==============================] - 7s 7ms/step - loss: 0.0031 - accuracy: 0.9990 - val_loss: 0.0140 - val_accuracy: 0.9971\n",
            "Epoch 21/30\n",
            "981/981 [==============================] - 6s 6ms/step - loss: 0.0021 - accuracy: 0.9993 - val_loss: 0.0193 - val_accuracy: 0.9957\n",
            "Epoch 22/30\n",
            "981/981 [==============================] - 6s 6ms/step - loss: 0.0054 - accuracy: 0.9986 - val_loss: 0.0153 - val_accuracy: 0.9969\n",
            "Epoch 23/30\n",
            "981/981 [==============================] - 6s 6ms/step - loss: 0.0012 - accuracy: 0.9996 - val_loss: 0.0140 - val_accuracy: 0.9972\n",
            "Epoch 24/30\n",
            "981/981 [==============================] - 6s 6ms/step - loss: 0.0012 - accuracy: 0.9996 - val_loss: 0.0177 - val_accuracy: 0.9963\n",
            "Epoch 25/30\n",
            "981/981 [==============================] - 6s 6ms/step - loss: 0.0011 - accuracy: 0.9996 - val_loss: 0.0179 - val_accuracy: 0.9972\n",
            "Epoch 26/30\n",
            "981/981 [==============================] - 6s 7ms/step - loss: 0.0020 - accuracy: 0.9994 - val_loss: 0.0134 - val_accuracy: 0.9974\n",
            "Epoch 27/30\n",
            "981/981 [==============================] - 6s 7ms/step - loss: 0.0017 - accuracy: 0.9996 - val_loss: 0.0149 - val_accuracy: 0.9972\n",
            "Epoch 28/30\n",
            "981/981 [==============================] - 6s 7ms/step - loss: 0.0016 - accuracy: 0.9995 - val_loss: 0.0167 - val_accuracy: 0.9967\n",
            "Epoch 29/30\n",
            "981/981 [==============================] - 6s 6ms/step - loss: 5.1748e-04 - accuracy: 0.9998 - val_loss: 0.0140 - val_accuracy: 0.9976\n",
            "Epoch 30/30\n",
            "981/981 [==============================] - 6s 6ms/step - loss: 8.0231e-04 - accuracy: 0.9998 - val_loss: 0.0113 - val_accuracy: 0.9971\n"
          ]
        }
      ]
    },
    {
      "cell_type": "markdown",
      "source": [
        "# **Model Evaluation - Validation Data**"
      ],
      "metadata": {
        "id": "SGJTlQ4LbivR"
      }
    },
    {
      "cell_type": "code",
      "source": [
        "\n",
        "#plotting graphs for accuracy \n",
        "plt.figure(0)\n",
        "plt.plot(history.history['accuracy'], label='training accuracy')\n",
        "plt.plot(history.history['val_accuracy'], label='val accuracy')\n",
        "plt.title('Accuracy')\n",
        "plt.xlabel('epochs')\n",
        "plt.ylabel('accuracy')\n",
        "plt.legend()\n",
        "plt.show()\n",
        "plt.figure(1)\n",
        "plt.plot(history.history['loss'], label='training loss')\n",
        "plt.plot(history.history['val_loss'], label='val loss')\n",
        "plt.title('Loss')\n",
        "plt.xlabel('epochs')\n",
        "plt.ylabel('loss')\n",
        "plt.legend()\n",
        "plt.show()\n"
      ],
      "metadata": {
        "colab": {
          "base_uri": "https://localhost:8080/",
          "height": 573
        },
        "id": "OcUxtMbabi78",
        "outputId": "beaa40ea-d8e0-42a4-a970-58503b9921f2"
      },
      "execution_count": 26,
      "outputs": [
        {
          "output_type": "display_data",
          "data": {
            "text/plain": [
              "<Figure size 432x288 with 1 Axes>"
            ],
            "image/png": "[encoded data removed]"
          },
          "metadata": {
            "needs_background": "light"
          }
        },
        {
          "output_type": "display_data",
          "data": {
            "text/plain": [
              "<Figure size 432x288 with 1 Axes>"
            ],
            "image/png": "[encoded data removed]"
          },
          "metadata": {
            "needs_background": "light"
          }
        }
      ]
    },
    {
      "cell_type": "code",
      "source": [
        "#testing accuracy on test dataset\n",
        "from sklearn.metrics import accuracy_score\n",
        "import glob"
      ],
      "metadata": {
        "id": "ouEbWsxhtwpP"
      },
      "execution_count": null,
      "outputs": []
    },
    {
      "cell_type": "code",
      "source": [
        "pred = (model.predict(X_test) > 0.5).astype(\"int32\")\n",
        "print(accuracy_score(y_test,pred))"
      ],
      "metadata": {
        "colab": {
          "base_uri": "https://localhost:8080/"
        },
        "id": "uc60IGrmakbn",
        "outputId": "b325b030-6b48-4b99-aa44-7e93a404d29d"
      },
      "execution_count": 64,
      "outputs": [
        {
          "output_type": "stream",
          "name": "stdout",
          "text": [
            "0.9969395562356542\n"
          ]
        }
      ]
    },
    {
      "cell_type": "markdown",
      "source": [
        "# **Testing on Unseen Data**"
      ],
      "metadata": {
        "id": "X8O-sBDNw_y4"
      }
    },
    {
      "cell_type": "code",
      "source": [
        "data_dir = '/content/gtsrb-german-traffic-sign'"
      ],
      "metadata": {
        "id": "VLx48e8rvdJ8"
      },
      "execution_count": 77,
      "outputs": []
    },
    {
      "cell_type": "code",
      "source": [
        "test = pd.read_csv(data_dir + '/Test.csv')\n",
        "labels = test[\"ClassId\"].values\n",
        "imgs = test[\"Path\"].values\n",
        "print(imgs)"
      ],
      "metadata": {
        "colab": {
          "base_uri": "https://localhost:8080/"
        },
        "id": "DzaGFB2mvxX-",
        "outputId": "45cdb69b-b492-462d-e428-a72f9c51c846"
      },
      "execution_count": 78,
      "outputs": [
        {
          "output_type": "stream",
          "name": "stdout",
          "text": [
            "['Test/00000.png' 'Test/00001.png' 'Test/00002.png' ... 'Test/12627.png'\n",
            " 'Test/12628.png' 'Test/12629.png']\n"
          ]
        }
      ]
    },
    {
      "cell_type": "code",
      "source": [
        "test = pd.read_csv(data_dir + '/Test.csv')\n",
        "\n",
        "labels = test[\"ClassId\"].values\n",
        "imgs = test[\"Path\"].values\n",
        "\n",
        "data =[]\n",
        "\n",
        "for img in imgs:\n",
        "    image = Image.open(data_dir + \"/\" + img)\n",
        "    image = image.resize((30,30))\n",
        "    image = np.array(image)\n",
        "    data.append(image)\n",
        "\n",
        "data = np.array(data)\n",
        "X_test = np.array(data)\n",
        "\n",
        "pred = (model.predict(X_test) > 0.5).astype(\"int32\")"
      ],
      "metadata": {
        "id": "cbipjJM1vYx8"
      },
      "execution_count": 79,
      "outputs": []
    },
    {
      "cell_type": "code",
      "source": [
        "labels"
      ],
      "metadata": {
        "colab": {
          "base_uri": "https://localhost:8080/"
        },
        "id": "c_A-XhRewy0K",
        "outputId": "a8d811f0-bb82-4e4c-c47e-0922539ce19f"
      },
      "execution_count": 80,
      "outputs": [
        {
          "output_type": "execute_result",
          "data": {
            "text/plain": [
              "array([16,  1, 38, ...,  6,  7, 10])"
            ]
          },
          "metadata": {},
          "execution_count": 80
        }
      ]
    },
    {
      "cell_type": "code",
      "source": [
        "labels = keras.utils.to_categorical(labels, 43)"
      ],
      "metadata": {
        "id": "YWys6ORdw0aT"
      },
      "execution_count": 81,
      "outputs": []
    },
    {
      "cell_type": "code",
      "source": [
        "print('Test Data accuracy: ',accuracy_score(labels, pred)*100)"
      ],
      "metadata": {
        "colab": {
          "base_uri": "https://localhost:8080/"
        },
        "id": "sQIB8S0TwxLg",
        "outputId": "51b015e1-c04d-43ff-cbf2-09ddd03eb1e6"
      },
      "execution_count": 82,
      "outputs": [
        {
          "output_type": "stream",
          "name": "stdout",
          "text": [
            "Test Data accuracy:  98.28978622327791\n"
          ]
        }
      ]
    },
    {
      "cell_type": "code",
      "source": [
        "model.save(\"traffic_sign_classifier_best.h5\")"
      ],
      "metadata": {
        "id": "LIfmjhUmbxQ0"
      },
      "execution_count": 85,
      "outputs": []
    }
  ]
}